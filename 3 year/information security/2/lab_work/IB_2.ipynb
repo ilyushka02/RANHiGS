{
 "cells": [
  {
   "cell_type": "code",
   "execution_count": 113,
   "id": "8cfdd09d-1574-4d3e-baab-d37278fb6110",
   "metadata": {},
   "outputs": [],
   "source": [
    "import random"
   ]
  },
  {
   "cell_type": "code",
   "execution_count": 189,
   "id": "78982b5c-a51b-41d6-8d68-727e4be2de74",
   "metadata": {},
   "outputs": [],
   "source": [
    "P = 10**-4\n",
    "T = 3 # кол-во недель\n",
    "V = 20*60*24*7 #паролей в нед\n",
    "\n",
    "S1 = (V*T)/P"
   ]
  },
  {
   "cell_type": "code",
   "execution_count": 213,
   "id": "9a1a3136-8407-48d0-99fd-0f6da4f64545",
   "metadata": {},
   "outputs": [
    {
     "name": "stdout",
     "output_type": "stream",
     "text": [
      "Рассчитываем нижнюю границу S* для:\n",
      "P = 0.0001\n",
      "T=3\n",
      "V=201600\n",
      "\n",
      "S* = 6048000000.0\n",
      "Мощность алфавита A = 136\n",
      "\n",
      "Подбираем минимальную длинну пароля ...\n",
      "\n",
      "Длинна пароля = 0\n",
      "S = 1\n",
      "S*<= S  ? = False\n",
      "    \n",
      "Длинна пароля = 1\n",
      "S = 136\n",
      "S*<= S  ? = False\n",
      "    \n",
      "Длинна пароля = 2\n",
      "S = 18496\n",
      "S*<= S  ? = False\n",
      "    \n",
      "Длинна пароля = 3\n",
      "S = 2515456\n",
      "S*<= S  ? = False\n",
      "    \n",
      "Длинна пароля = 4\n",
      "S = 342102016\n",
      "S*<= S  ? = False\n",
      "    \n",
      "Длинна пароля = 5\n",
      "S = 46525874176\n",
      "S*<= S  ? = True\n",
      "    \n",
      "Минимальная длинна пароля =  5\n",
      "Пароль =  иDWдя\n"
     ]
    }
   ],
   "source": [
    "len_password = 0\n",
    "A = len(list_alphabet)\n",
    "print(f\"\"\"Рассчитываем нижнюю границу S* для:\n",
    "P = {P}\n",
    "T={T}\n",
    "V={V}\n",
    "\n",
    "S* = {S1}\n",
    "Мощность алфавита A = {A}\n",
    "\n",
    "Подбираем минимальную длинну пароля ...\n",
    "\"\"\")\n",
    "\n",
    "while True:\n",
    "    S2 = A**len_password\n",
    "    print(f\"\"\"Длинна пароля = {len_password}\n",
    "S = {S2}\n",
    "S*<= S  ? = {S1<=S2}\n",
    "    \"\"\")\n",
    "    if S1<=S2:\n",
    "        print(\"Минимальная длинна пароля = \", len_password)\n",
    "        break\n",
    "    len_password +=1\n",
    "\n",
    "\n",
    "list_alphabet = [j for i in [range(65,91), \n",
    "                             range(97, 123),\n",
    "                             range(48, 58), \n",
    "                             range(33,40), \n",
    "                             range(128, 176),\n",
    "                             range(224, 243)\n",
    "                            ] for j in i]\n",
    "\n",
    "password = []\n",
    "\n",
    "while len_password:\n",
    "    random_val = random.choice(list_alphabet)\n",
    "    encoded = chr(random_val).encode('latin1')\n",
    "    \n",
    "    password.append(encoded.decode(\"CP866\"))\n",
    "    len_password-=1\n",
    "\n",
    "print(\"Пароль = \", ''.join(password))"
   ]
  },
  {
   "cell_type": "code",
   "execution_count": null,
   "id": "bc2f7e39-a4d2-4cbe-9e92-f5dcc851ef10",
   "metadata": {},
   "outputs": [],
   "source": []
  }
 ],
 "metadata": {
  "kernelspec": {
   "display_name": "Python 3 (ipykernel)",
   "language": "python",
   "name": "python3"
  },
  "language_info": {
   "codemirror_mode": {
    "name": "ipython",
    "version": 3
   },
   "file_extension": ".py",
   "mimetype": "text/x-python",
   "name": "python",
   "nbconvert_exporter": "python",
   "pygments_lexer": "ipython3",
   "version": "3.12.4"
  }
 },
 "nbformat": 4,
 "nbformat_minor": 5
}
