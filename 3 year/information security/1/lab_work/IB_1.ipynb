{
 "cells": [
  {
   "cell_type": "markdown",
   "id": "c0249875-f393-4bb7-9dbc-38ba354e31c9",
   "metadata": {},
   "source": [
    "Python 3.12.4\r\n",
    "\n",
    "# Уcтановка библиотек"
   ]
  },
  {
   "cell_type": "code",
   "execution_count": 3,
   "id": "6f690ad9-f689-4705-ab15-0830d7c09020",
   "metadata": {},
   "outputs": [
    {
     "name": "stdout",
     "output_type": "stream",
     "text": [
      "Requirement already satisfied: IPython==8.25.0 in c:\\users\\mrnas\\anaconda3\\lib\\site-packages (8.25.0)\n",
      "Requirement already satisfied: decorator in c:\\users\\mrnas\\anaconda3\\lib\\site-packages (from IPython==8.25.0) (5.1.1)\n",
      "Requirement already satisfied: jedi>=0.16 in c:\\users\\mrnas\\anaconda3\\lib\\site-packages (from IPython==8.25.0) (0.18.1)\n",
      "Requirement already satisfied: matplotlib-inline in c:\\users\\mrnas\\anaconda3\\lib\\site-packages (from IPython==8.25.0) (0.1.6)\n",
      "Requirement already satisfied: prompt-toolkit<3.1.0,>=3.0.41 in c:\\users\\mrnas\\anaconda3\\lib\\site-packages (from IPython==8.25.0) (3.0.43)\n",
      "Requirement already satisfied: pygments>=2.4.0 in c:\\users\\mrnas\\anaconda3\\lib\\site-packages (from IPython==8.25.0) (2.15.1)\n",
      "Requirement already satisfied: stack-data in c:\\users\\mrnas\\anaconda3\\lib\\site-packages (from IPython==8.25.0) (0.2.0)\n",
      "Requirement already satisfied: traitlets>=5.13.0 in c:\\users\\mrnas\\anaconda3\\lib\\site-packages (from IPython==8.25.0) (5.14.3)\n",
      "Requirement already satisfied: colorama in c:\\users\\mrnas\\anaconda3\\lib\\site-packages (from IPython==8.25.0) (0.4.6)\n",
      "Requirement already satisfied: parso<0.9.0,>=0.8.0 in c:\\users\\mrnas\\anaconda3\\lib\\site-packages (from jedi>=0.16->IPython==8.25.0) (0.8.3)\n",
      "Requirement already satisfied: wcwidth in c:\\users\\mrnas\\anaconda3\\lib\\site-packages (from prompt-toolkit<3.1.0,>=3.0.41->IPython==8.25.0) (0.2.5)\n",
      "Requirement already satisfied: executing in c:\\users\\mrnas\\anaconda3\\lib\\site-packages (from stack-data->IPython==8.25.0) (0.8.3)\n",
      "Requirement already satisfied: asttokens in c:\\users\\mrnas\\anaconda3\\lib\\site-packages (from stack-data->IPython==8.25.0) (2.0.5)\n",
      "Requirement already satisfied: pure-eval in c:\\users\\mrnas\\anaconda3\\lib\\site-packages (from stack-data->IPython==8.25.0) (0.2.2)\n",
      "Requirement already satisfied: six in c:\\users\\mrnas\\anaconda3\\lib\\site-packages (from asttokens->stack-data->IPython==8.25.0) (1.16.0)\n",
      "Requirement already satisfied: tqdm==4.66.4 in c:\\users\\mrnas\\anaconda3\\lib\\site-packages (4.66.4)\n",
      "Requirement already satisfied: colorama in c:\\users\\mrnas\\anaconda3\\lib\\site-packages (from tqdm==4.66.4) (0.4.6)\n",
      "Requirement already satisfied: art==6.2 in c:\\users\\mrnas\\anaconda3\\lib\\site-packages (6.2)\n"
     ]
    }
   ],
   "source": [
    "!pip install IPython==8.25.0\n",
    "!pip install tqdm==4.66.4\n",
    "!pip install art==6.2"
   ]
  },
  {
   "cell_type": "markdown",
   "id": "90a1be91-2d8a-49c2-9d94-fe481cb508bb",
   "metadata": {},
   "source": [
    "# Блок импортов"
   ]
  },
  {
   "cell_type": "code",
   "execution_count": 23,
   "id": "6122e234-247a-48c2-a1e5-9906997dfdd7",
   "metadata": {},
   "outputs": [],
   "source": [
    "import sys\n",
    "from IPython.display import clear_output\n",
    "from time import sleep\n",
    "from tqdm import tqdm\n",
    "from art import tprint\n",
    "# from random import choice\n",
    "\n",
    "sys.intern('./custom_classes/')\n",
    "from custom_classes import Users as us\n",
    "from custom_classes import Files as fs"
   ]
  },
  {
   "cell_type": "code",
   "execution_count": 25,
   "id": "69d22193-a99b-4eab-8d1c-8e9cca29ee08",
   "metadata": {},
   "outputs": [],
   "source": [
    "# Переменные для генерации пользователей и файлов\n",
    "COUNT_USER = 9\n",
    "COUNT_OBJECT = 4"
   ]
  },
  {
   "cell_type": "code",
   "execution_count": 27,
   "id": "0d3485be-e94d-44fa-83ca-0ed53c0cb3f0",
   "metadata": {
    "scrolled": true
   },
   "outputs": [
    {
     "name": "stdout",
     "output_type": "stream",
     "text": [
      "|-------------|-------------|---------|\n",
      "| Username    | Password    | Type    |\n",
      "|-------------|-------------|---------|\n",
      "| Иван        | Иван        | admin   |\n",
      "| Кристина    | Кристина    | user    |\n",
      "| Виктория    | Виктория    | user    |\n",
      "| Мария       | Мария       | user    |\n",
      "| Виктория    | Виктория    | user    |\n",
      "| Иван        | Иван        | user    |\n",
      "| Александр   | Александр   | user    |\n",
      "| Кристина    | Кристина    | user    |\n",
      "| Тимофей     | Тимофей     | guest   |\n",
      "|-------------|-------------|---------|\n"
     ]
    }
   ],
   "source": [
    "# Генерация пользователей\n",
    "u = us.Users()\n",
    "u.generate_users(COUNT_USER)\n",
    "u.print_all_persen()"
   ]
  },
  {
   "cell_type": "code",
   "execution_count": 29,
   "id": "a5fea70a-b96e-4fa3-b889-105554feee84",
   "metadata": {},
   "outputs": [
    {
     "name": "stdout",
     "output_type": "stream",
     "text": [
      "|-------------|--------------|------------|----------|----------|\n",
      "| Username    | PersenData   | Access     | Object_1 | Object_2 | \n",
      "|-------------|--------------|------------|----------|----------|\n",
      "| Иван        | Denied       | r--        | Full     | Denied   |\n",
      "| Кристина    | Denied       | r--        | Denied   | Denied   |\n",
      "| Виктория    | Denied       | r--        | Denied   | rw-      |\n",
      "| Мария       | Denied       | r--        | Denied   | Full     |\n",
      "| Александр   | Denied       | r--        | r--      | r--      |\n",
      "| Тимофей     | Denied       | Denied     | Denied   | Denied   |\n",
      "|-------------|--------------|------------|----------|----------|"
     ]
    }
   ],
   "source": [
    "# Генерация файлов\n",
    "f = fs.Files()\n",
    "f.generate_files(COUNT_OBJECT, u)\n",
    "f.print_all_access_to_file()"
   ]
  },
  {
   "cell_type": "code",
   "execution_count": null,
   "id": "8aec3807-709c-4095-9135-5e47221ce056",
   "metadata": {},
   "outputs": [
    {
     "name": "stdout",
     "output_type": "stream",
     "text": [
      " ____  __        ____  __\n",
      "|  _ \\ \\ \\      / /\\ \\/ /\n",
      "| |_) | \\ \\ /\\ / /  \\  / \n",
      "|  _ <   \\ V  V /   /  \\ \n",
      "|_| \\_\\   \\_/\\_/   /_/\\_\\\n",
      "                         \n",
      "\n",
      "\n",
      "1 - Autorization\n",
      "0 - Exit\n",
      "            \n"
     ]
    }
   ],
   "source": [
    "# Основная программа\n",
    "\n",
    "# Индикатор завершения программы \n",
    "flag_exit = 1 \n",
    "\n",
    "# Номер страницы\n",
    "page = 1\n",
    "\n",
    "while flag_exit != 0:     \n",
    "\n",
    "# Отрисовка страниц:\n",
    "\n",
    "    # Страница авторизации\n",
    "    if page == 1: \n",
    "        tprint(\"RWX\")\n",
    "        print(\"\"\"\n",
    "1 - Autorization\n",
    "0 - Exit\n",
    "            \"\"\")\n",
    "\n",
    "    # Личный кабинет \n",
    "    # Получаем от пользователя какое действие над файлами он хочет провести\n",
    "    elif page == 2: \n",
    "        clear_output()\n",
    "        tprint(f\"RWX {user.get_type()}\")\n",
    "        \n",
    "        print(f\"Hello {user.get_username()}!\")\n",
    "        print()\n",
    "        \n",
    "        print(\"Access for file\")\n",
    "        f.print_all_access_to_file()\n",
    "        \n",
    "        print()\n",
    "        print(\"\"\"\n",
    "1 - Read\n",
    "2 - Write\n",
    "3 - Share\n",
    "0 - Exit\n",
    "            \"\"\")\n",
    "\n",
    "    #  Получаем от пользователя название файла над которым будем работать\n",
    "    elif page == 3:\n",
    "        clear_output()\n",
    "        tprint(f\"RWX {user.get_type()}\")\n",
    "                        \n",
    "        print(\"\"\"\n",
    "Write name file or enter '0' for exit\n",
    "            \"\"\")\n",
    "\n",
    "    #  Показываем пользователю результат\n",
    "    elif page == 4:\n",
    "        clear_output()\n",
    "        tprint(f\"RWX {user.get_type()}\")\n",
    "\n",
    "        if code == f.SUCESS: print(\"Success\")          \n",
    "        else: print(\"Access denied\")\n",
    "        \n",
    "        print(\"USER: \", user.get_username())\n",
    "        print(\"FILE_NAME: \", name_file)\n",
    "        \n",
    "        print()\n",
    "        print(\"\"\"Enter '0' for rotate to back\"\"\")\n",
    "        \n",
    "        print()\n",
    "\n",
    "# Блок для разных полей ввода\n",
    "    if page == 3:\n",
    "        try:\n",
    "            name_file = input(\"Enetre value:\", )\n",
    "        except:\n",
    "            clear_output()\n",
    "            continue\n",
    "    else:\n",
    "        try:\n",
    "            value = int(input(\"Enetre value:\", ))\n",
    "        except:\n",
    "            clear_output()\n",
    "            continue\n",
    "\n",
    "# Блок действий\n",
    "    # Пока\n",
    "    if page <= 2 and value == 0:\n",
    "        print(\"Bay!\")\n",
    "        flag_exit = 0\n",
    "    # Авторизация\n",
    "    elif value == 1 and page == 1:\n",
    "        print(\"Insert you`re login and password\")\n",
    "        login = input(\"Login: \", )    \n",
    "        password = input(\"Passwor: \",)\n",
    "        \n",
    "        code, user = u.autorization(login, password)\n",
    "        if code == u.BAD_CODE: print(\"Uncorect username or password\")\n",
    "        elif code == u.SUCESS:\n",
    "            for i in tqdm(range(0,100)):\n",
    "                sleep(0.01)\n",
    "            page += 1\n",
    "        else: print(\"Unknown error\")\n",
    "\n",
    "    # Переход между страницами\n",
    "    elif page == 2 and value != 0:\n",
    "        action = value\n",
    "        value = ''\n",
    "        page +=1\n",
    "    \n",
    "    elif page == 4 and value == 0:\n",
    "        page = 2\n",
    "    \n",
    "    elif page == 3 and name_file == '0':\n",
    "        page -= 1\n",
    "    \n",
    "    # Работа с файлом с учетом прав доступа \n",
    "    elif page == 3:\n",
    "        if user.get_type == 'admin':\n",
    "            print(\"Success\")\n",
    "            if name_file == 'PersenData':\n",
    "                u.print_all_persen()\n",
    "            elif name_file == 'Access':\n",
    "                f.print_all_access_to_file()\n",
    "        \n",
    "        elif user.get_type == 'Guest':\n",
    "            print(\"Access denied\")          \n",
    "\n",
    "        else:\n",
    "            # READ\n",
    "            if action == 1: \n",
    "                code = f.access_verificate(user.get_username(), name_file, 'r')\n",
    "            # Write\n",
    "            elif action == 2: \n",
    "                code = f.access_verificate(user.get_username(), name_file, 'w')\n",
    "            # Share\n",
    "            elif action == 3: \n",
    "                code = f.access_verificate(user.get_username(), name_file, 's')\n",
    "        page += 1"
   ]
  },
  {
   "cell_type": "code",
   "execution_count": null,
   "id": "c1961b8c-cec1-4d8c-a384-3d2143f9d014",
   "metadata": {},
   "outputs": [],
   "source": [
    "f.access_verificate('Мария', 'Access', 's')"
   ]
  },
  {
   "cell_type": "code",
   "execution_count": null,
   "id": "534b26e1-f909-49e4-8481-f69ed69b32a1",
   "metadata": {},
   "outputs": [],
   "source": []
  }
 ],
 "metadata": {
  "kernelspec": {
   "display_name": "Python 3 (ipykernel)",
   "language": "python",
   "name": "python3"
  },
  "language_info": {
   "codemirror_mode": {
    "name": "ipython",
    "version": 3
   },
   "file_extension": ".py",
   "mimetype": "text/x-python",
   "name": "python",
   "nbconvert_exporter": "python",
   "pygments_lexer": "ipython3",
   "version": "3.12.4"
  }
 },
 "nbformat": 4,
 "nbformat_minor": 5
}
