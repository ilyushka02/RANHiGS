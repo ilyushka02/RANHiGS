{
 "cells": [
  {
   "cell_type": "code",
   "execution_count": 2,
   "id": "365aca60-4fe3-4430-ae5d-d85b0b4d1bf0",
   "metadata": {},
   "outputs": [
    {
     "name": "stdin",
     "output_type": "stream",
     "text": [
      "p =  12\n",
      "q =  13\n"
     ]
    },
    {
     "name": "stdout",
     "output_type": "stream",
     "text": [
      "\n",
      "p = 12\n",
      "q = 13\n",
      "n = 156\n",
      "t = 132\n",
      "e = 19\n",
      "d = 7\n",
      "\n",
      "open_duo(19,156)\n",
      "close_duo(7,156)\n",
      "        \n"
     ]
    }
   ],
   "source": [
    "from math import lcm, gcd\n",
    "from random import choice\n",
    "class RSA:\n",
    "    p = 0\n",
    "    q = 0\n",
    "    n = 0\n",
    "    t = 0\n",
    "    e = 0\n",
    "    d = 0\n",
    "    \n",
    "    def _n(self):\n",
    "        self.n = self.p * self.q\n",
    "\n",
    "    def _t(self):\n",
    "        self.t = lcm((self.p-1), (self.q-1))\n",
    "\n",
    "    def _e(self):\n",
    "        e_list = []\n",
    "        for e in range(2, self.n):\n",
    "            if gcd(e, self.t) == 1 and e > 1 and e < self.t:\n",
    "                e_list.append(e)\n",
    "        self.e = choice(e_list)\n",
    "\n",
    "    def _d(self):\n",
    "        self.d = pow(self.e, -1, self.t)\n",
    "\n",
    "    def _super_metod(self):\n",
    "        self._n()\n",
    "        self._t()\n",
    "        self._e()\n",
    "        self._d()\n",
    "        \n",
    "    \n",
    "    def __init__(self, p, q):\n",
    "        self.p = p\n",
    "        self.q = q\n",
    "        self._super_metod()\n",
    "\n",
    "    def see(self):\n",
    "        print(f\"\"\"\n",
    "p = {self.p}\n",
    "q = {self.q}\n",
    "n = {self.n}\n",
    "t = {self.t}\n",
    "e = {self.e}\n",
    "d = {self.d}\n",
    "\n",
    "open_duo({self.e},{self.n})\n",
    "close_duo({self.d},{self.n})\n",
    "        \"\"\")\n",
    "\n",
    "p = int(input(\"p = \"))\n",
    "q = int(input(\"q = \"))\n",
    "rsa = RSA(p, q)\n",
    "rsa.see()"
   ]
  },
  {
   "cell_type": "code",
   "execution_count": null,
   "id": "3b8feeb7-fade-4390-a24a-a62179cbfae6",
   "metadata": {},
   "outputs": [],
   "source": []
  }
 ],
 "metadata": {
  "kernelspec": {
   "display_name": "Python 3 (ipykernel)",
   "language": "python",
   "name": "python3"
  },
  "language_info": {
   "codemirror_mode": {
    "name": "ipython",
    "version": 3
   },
   "file_extension": ".py",
   "mimetype": "text/x-python",
   "name": "python",
   "nbconvert_exporter": "python",
   "pygments_lexer": "ipython3",
   "version": "3.12.4"
  }
 },
 "nbformat": 4,
 "nbformat_minor": 5
}
