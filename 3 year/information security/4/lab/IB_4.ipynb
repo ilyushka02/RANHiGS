{
 "cells": [
  {
   "cell_type": "code",
   "execution_count": 1,
   "id": "b9034c6d-d35e-4aa5-8e41-b4e3721bcebb",
   "metadata": {},
   "outputs": [
    {
     "name": "stdout",
     "output_type": "stream",
     "text": [
      "^C\n"
     ]
    }
   ],
   "source": [
    "!pip install -r requirements.txt\n",
    "# !pip install wmi\n",
    "import wmi\n",
    "import os"
   ]
  },
  {
   "cell_type": "code",
   "execution_count": 2,
   "id": "a7eef990-2b55-4940-afa3-a4f9dbd2aa33",
   "metadata": {},
   "outputs": [],
   "source": [
    "# default values\n",
    "disk_def = ['E823_8FA6_BF53_0001_001B_444A_464F_BDBA.']\n",
    "user_name_def = 'mrnas'"
   ]
  },
  {
   "cell_type": "code",
   "execution_count": 3,
   "id": "7253d1c4-bd07-4520-9dae-ae767bad41f6",
   "metadata": {},
   "outputs": [],
   "source": [
    "c = wmi.WMI()\n",
    "disk = c.Win32_PhysicalMedia()\n",
    "disk_serial = [d.SerialNumber for d in disk]\n",
    "\n",
    "username = os.getenv(\"USERNAME\")"
   ]
  },
  {
   "cell_type": "code",
   "execution_count": 4,
   "id": "c27bc1fe-4569-4c4e-be0d-5664046440ce",
   "metadata": {},
   "outputs": [
    {
     "ename": "NameError",
     "evalue": "name 'user_name' is not defined",
     "output_type": "error",
     "traceback": [
      "\u001b[1;31m---------------------------------------------------------------------------\u001b[0m",
      "\u001b[1;31mNameError\u001b[0m                                 Traceback (most recent call last)",
      "Cell \u001b[1;32mIn[4], line 1\u001b[0m\n\u001b[1;32m----> 1\u001b[0m \u001b[38;5;28;01mif\u001b[39;00m disk_serial \u001b[38;5;241m==\u001b[39m disk_def \u001b[38;5;129;01mand\u001b[39;00m user_name \u001b[38;5;241m==\u001b[39m user_name_def:\n\u001b[0;32m      2\u001b[0m     \u001b[38;5;28mprint\u001b[39m(\u001b[38;5;124m\"\u001b[39m\u001b[38;5;124mHellow Ilya!\u001b[39m\u001b[38;5;124m\"\u001b[39m)\n\u001b[0;32m      3\u001b[0m \u001b[38;5;28;01melse\u001b[39;00m: \u001b[38;5;28mprint\u001b[39m(\u001b[38;5;124m\"\u001b[39m\u001b[38;5;124mYou not Ilya. Who are you?\u001b[39m\u001b[38;5;124m\"\u001b[39m)\n",
      "\u001b[1;31mNameError\u001b[0m: name 'user_name' is not defined"
     ]
    }
   ],
   "source": [
    "if disk_serial == disk_def and user_name == user_name_def:\n",
    "    print(\"Hellow Ilya!\")\n",
    "else: print(\"You not Ilya. Who are you?\")\n",
    "    "
   ]
  },
  {
   "cell_type": "code",
   "execution_count": null,
   "id": "22ba6a41-7fe5-49b3-b733-97ee74f45fb9",
   "metadata": {},
   "outputs": [],
   "source": []
  }
 ],
 "metadata": {
  "kernelspec": {
   "display_name": "Python 3 (ipykernel)",
   "language": "python",
   "name": "python3"
  },
  "language_info": {
   "codemirror_mode": {
    "name": "ipython",
    "version": 3
   },
   "file_extension": ".py",
   "mimetype": "text/x-python",
   "name": "python",
   "nbconvert_exporter": "python",
   "pygments_lexer": "ipython3",
   "version": "3.12.4"
  }
 },
 "nbformat": 4,
 "nbformat_minor": 5
}
